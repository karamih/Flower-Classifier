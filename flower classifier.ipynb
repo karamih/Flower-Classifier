{
 "cells": [
  {
   "cell_type": "markdown",
   "id": "75a5629e",
   "metadata": {},
   "source": [
    "# flower classifier with PyTorch\n",
    "\n",
    "for every project we should follow *three* steps:\n",
    "#### 1. preparing the data\n",
    "#### 2. create a model\n",
    "#### 3. evaluate the model"
   ]
  },
  {
   "cell_type": "markdown",
   "id": "48cfd30e",
   "metadata": {},
   "source": [
    "## 1. Preparing the data\n",
    "\n",
    "for this project we have a flower dataset which contains 17 types of flower that exist in *17_flowers* directory.\n",
    "the dataset contains *train* and *test* data.\n",
    "\n",
    "for reading data and prepare those, there are different ways, for example: using glob, using os, using pytorch, ...\n",
    "here we use pythorch for reading and preparing the data."
   ]
  },
  {
   "cell_type": "code",
   "execution_count": 1,
   "id": "e5e8147a",
   "metadata": {},
   "outputs": [
    {
     "data": {
      "text/plain": [
       "'cpu'"
      ]
     },
     "execution_count": 1,
     "metadata": {},
     "output_type": "execute_result"
    }
   ],
   "source": [
    "import torch\n",
    "\n",
    "# set device for modeling\n",
    "device = 'cuda' if torch.cuda.is_available() else 'cpu'\n",
    "device"
   ]
  },
  {
   "cell_type": "markdown",
   "id": "6d62ce13",
   "metadata": {},
   "source": [
    "### 1.1_ using torchvision.transforms to build train and test transforms"
   ]
  },
  {
   "cell_type": "code",
   "execution_count": 2,
   "id": "e9f42ccf",
   "metadata": {},
   "outputs": [],
   "source": [
    "from torchvision import transforms\n",
    "\n",
    "train_dir = '17_flowers/train'\n",
    "test_dir = '17_flowers/test'"
   ]
  },
  {
   "cell_type": "code",
   "execution_count": 3,
   "id": "5b5c98a0",
   "metadata": {},
   "outputs": [],
   "source": [
    "train_transform = transforms.Compose([transforms.Resize(size=(64, 64)), \n",
    "                                     transforms.RandomHorizontalFlip(0.5), \n",
    "                                     transforms.ToTensor()])\n",
    "\n",
    "test_transform = transforms.Compose([transforms.Resize(size=(64, 64)), \n",
    "                                    transforms.ToTensor()])"
   ]
  },
  {
   "cell_type": "markdown",
   "id": "c3a9738c",
   "metadata": {},
   "source": [
    "### 1.2_ using torchvision.datasets.ImageFolder() to create torch dataset from our data and then split them to batches with torch.utils.data.DataLoader()."
   ]
  },
  {
   "cell_type": "code",
   "execution_count": 4,
   "id": "abcf9ba9",
   "metadata": {},
   "outputs": [],
   "source": [
    "from torchvision.datasets import ImageFolder\n",
    "from torch.utils.data import DataLoader\n",
    "\n",
    "def create_dataset(train_dir, test_dir, train_transform, test_transform, batch_size, shuffle):\n",
    "    train_data = ImageFolder(root=train_dir, transform=train_transform)\n",
    "    test_data = ImageFolder(root=test_dir, transform=test_transform)\n",
    "    \n",
    "    train_loader = DataLoader(dataset=train_data, batch_size=batch_size, shuffle=shuffle)\n",
    "    test_loader = DataLoader(dataset=test_data, batch_size=batch_size, shuffle=False)\n",
    "    \n",
    "    \n",
    "    return train_loader, test_loader, train_data.classes"
   ]
  },
  {
   "cell_type": "code",
   "execution_count": 5,
   "id": "a4101c1e",
   "metadata": {},
   "outputs": [
    {
     "data": {
      "text/plain": [
       "['bluebell',\n",
       " 'buttercup',\n",
       " 'colts_foot',\n",
       " 'cowslip',\n",
       " 'crocus',\n",
       " 'daffodil',\n",
       " 'daisy',\n",
       " 'dandelion',\n",
       " 'fritillary',\n",
       " 'iris',\n",
       " 'lily_valley',\n",
       " 'pansy',\n",
       " 'snowdrop',\n",
       " 'sunflower',\n",
       " 'tigerlily',\n",
       " 'tulip',\n",
       " 'windflower']"
      ]
     },
     "execution_count": 5,
     "metadata": {},
     "output_type": "execute_result"
    }
   ],
   "source": [
    "BATCH_SIZE = 64\n",
    "\n",
    "train_loader, test_loader, classes = create_dataset(train_dir=train_dir, \n",
    "                                                   test_dir=test_dir, \n",
    "                                                   train_transform=train_transform, \n",
    "                                                   test_transform=test_transform, \n",
    "                                                   batch_size=BATCH_SIZE,\n",
    "                                                   shuffle=True)\n",
    "classes"
   ]
  },
  {
   "cell_type": "code",
   "execution_count": 6,
   "id": "c8c62249",
   "metadata": {},
   "outputs": [
    {
     "data": {
      "text/plain": [
       "(tensor([[[0.3804, 0.3804, 0.3804,  ..., 0.5569, 0.5294, 0.4902],\n",
       "          [0.3882, 0.3882, 0.3882,  ..., 0.5882, 0.5569, 0.5176],\n",
       "          [0.3882, 0.3882, 0.3882,  ..., 0.6157, 0.5725, 0.5412],\n",
       "          ...,\n",
       "          [0.5216, 0.5725, 0.5529,  ..., 0.6353, 0.6706, 0.6980],\n",
       "          [0.5804, 0.6000, 0.5725,  ..., 0.6392, 0.6745, 0.7059],\n",
       "          [0.6039, 0.6078, 0.5922,  ..., 0.6510, 0.6824, 0.7098]],\n",
       " \n",
       "         [[0.4784, 0.4784, 0.4784,  ..., 0.5882, 0.5647, 0.5373],\n",
       "          [0.4863, 0.4863, 0.4863,  ..., 0.6078, 0.5843, 0.5569],\n",
       "          [0.4863, 0.4863, 0.4863,  ..., 0.6314, 0.6039, 0.5804],\n",
       "          ...,\n",
       "          [0.5451, 0.6039, 0.5804,  ..., 0.6549, 0.6824, 0.6980],\n",
       "          [0.5961, 0.6196, 0.6000,  ..., 0.6627, 0.6902, 0.7098],\n",
       "          [0.6196, 0.6314, 0.6157,  ..., 0.6745, 0.6941, 0.7098]],\n",
       " \n",
       "         [[0.8431, 0.8431, 0.8431,  ..., 0.8549, 0.8471, 0.8471],\n",
       "          [0.8510, 0.8510, 0.8510,  ..., 0.8627, 0.8549, 0.8510],\n",
       "          [0.8510, 0.8510, 0.8510,  ..., 0.8745, 0.8667, 0.8706],\n",
       "          ...,\n",
       "          [0.7804, 0.8471, 0.8353,  ..., 0.8627, 0.8706, 0.8706],\n",
       "          [0.8235, 0.8627, 0.8510,  ..., 0.8667, 0.8667, 0.8627],\n",
       "          [0.8392, 0.8549, 0.8549,  ..., 0.8667, 0.8745, 0.8706]]]),\n",
       " torch.Size([3, 64, 64]))"
      ]
     },
     "execution_count": 6,
     "metadata": {},
     "output_type": "execute_result"
    }
   ],
   "source": [
    "# see an image in dataloader\n",
    "img = next(iter(train_loader))[0][0]\n",
    "\n",
    "img, img.shape"
   ]
  },
  {
   "cell_type": "code",
   "execution_count": 7,
   "id": "447513a0",
   "metadata": {},
   "outputs": [
    {
     "data": {
      "text/plain": [
       "<matplotlib.image.AxesImage at 0x24b8a2f78e0>"
      ]
     },
     "execution_count": 7,
     "metadata": {},
     "output_type": "execute_result"
    },
    {
     "data": {
      "image/png": "[encoded data removed]",
      "text/plain": [
       "<Figure size 640x480 with 1 Axes>"
      ]
     },
     "metadata": {},
     "output_type": "display_data"
    }
   ],
   "source": [
    "import matplotlib.pyplot as plt\n",
    "\n",
    "plt.imshow(img.permute(1, 2, 0))"
   ]
  },
  {
   "cell_type": "markdown",
   "id": "ac8c0ed8",
   "metadata": {},
   "source": [
    "Here we prepare our data to tensor data and everything is ok to go through the next step!"
   ]
  },
  {
   "cell_type": "markdown",
   "id": "7a8bbe22",
   "metadata": {},
   "source": [
    "## 2. Create a Model\n",
    "\n",
    "for creating a model there is a few ways. we build a model with creating a class."
   ]
  },
  {
   "cell_type": "markdown",
   "id": "15301638",
   "metadata": {},
   "source": [
    "### 2.1_ nn.Module\n",
    "\n",
    "the class should inherit the *nn.Module* from torch for the base model."
   ]
  },
  {
   "cell_type": "code",
   "execution_count": 8,
   "id": "6ce95bef",
   "metadata": {},
   "outputs": [],
   "source": [
    "import torch.nn as nn\n",
    "\n",
    "class Flower_classifier(nn.Module):\n",
    "    def __init__(self,\n",
    "                 input_shape: int, \n",
    "                 output_shape: int):\n",
    "        super().__init__()\n",
    "        \n",
    "        self.block_1 = nn.Sequential(nn.Conv2d(in_channels=input_shape, out_channels=32, kernel_size=(3, 3), padding=1), \n",
    "                                     nn.Conv2d(in_channels=32, out_channels=32, kernel_size=(3, 3), padding=1), \n",
    "                                     nn.ReLU(), \n",
    "                                     nn.MaxPool2d((2, 2)))\n",
    "        \n",
    "        self.block_2 = nn.Sequential(nn.Conv2d(in_channels=32, out_channels=64, kernel_size=(3, 3), padding=1), \n",
    "                                     nn.Conv2d(in_channels=64, out_channels=64, kernel_size=(3, 3), padding=1), \n",
    "                                     nn.ReLU(), \n",
    "                                     nn.MaxPool2d((2, 2)))\n",
    "            \n",
    "        self.block_3 = nn.Sequential(nn.Conv2d(in_channels=64, out_channels=128, kernel_size=(3, 3), padding=1), \n",
    "                                     nn.Conv2d(in_channels=128, out_channels=128, kernel_size=(3, 3), padding=1), \n",
    "                                     nn.ReLU(), \n",
    "                                     nn.MaxPool2d((2, 2)))\n",
    "        \n",
    "        self.classifier = nn.Sequential(nn.Flatten(), \n",
    "                                        nn.Linear(in_features=8*8*128, out_features=output_shape))\n",
    "        \n",
    "    def forward(self, x: torch.Tensor):\n",
    "        x = self.block_1(x)\n",
    "        x = self.block_2(x)\n",
    "        x = self.block_3(x)\n",
    "        x = self.classifier(x)\n",
    "        return x"
   ]
  },
  {
   "cell_type": "code",
   "execution_count": 9,
   "id": "1e3fd028",
   "metadata": {},
   "outputs": [
    {
     "data": {
      "text/plain": [
       "Flower_classifier(\n",
       "  (block_1): Sequential(\n",
       "    (0): Conv2d(3, 32, kernel_size=(3, 3), stride=(1, 1), padding=(1, 1))\n",
       "    (1): Conv2d(32, 32, kernel_size=(3, 3), stride=(1, 1), padding=(1, 1))\n",
       "    (2): ReLU()\n",
       "    (3): MaxPool2d(kernel_size=(2, 2), stride=(2, 2), padding=0, dilation=1, ceil_mode=False)\n",
       "  )\n",
       "  (block_2): Sequential(\n",
       "    (0): Conv2d(32, 64, kernel_size=(3, 3), stride=(1, 1), padding=(1, 1))\n",
       "    (1): Conv2d(64, 64, kernel_size=(3, 3), stride=(1, 1), padding=(1, 1))\n",
       "    (2): ReLU()\n",
       "    (3): MaxPool2d(kernel_size=(2, 2), stride=(2, 2), padding=0, dilation=1, ceil_mode=False)\n",
       "  )\n",
       "  (block_3): Sequential(\n",
       "    (0): Conv2d(64, 128, kernel_size=(3, 3), stride=(1, 1), padding=(1, 1))\n",
       "    (1): Conv2d(128, 128, kernel_size=(3, 3), stride=(1, 1), padding=(1, 1))\n",
       "    (2): ReLU()\n",
       "    (3): MaxPool2d(kernel_size=(2, 2), stride=(2, 2), padding=0, dilation=1, ceil_mode=False)\n",
       "  )\n",
       "  (classifier): Sequential(\n",
       "    (0): Flatten(start_dim=1, end_dim=-1)\n",
       "    (1): Linear(in_features=8192, out_features=17, bias=True)\n",
       "  )\n",
       ")"
      ]
     },
     "execution_count": 9,
     "metadata": {},
     "output_type": "execute_result"
    }
   ],
   "source": [
    "# create an instance of our model.\n",
    "\n",
    "torch.manual_seed(42)\n",
    "\n",
    "model = Flower_classifier(input_shape=3, \n",
    "                          output_shape = len(classes)).to(device)\n",
    "\n",
    "model"
   ]
  },
  {
   "cell_type": "code",
   "execution_count": 10,
   "id": "94ebec8d",
   "metadata": {},
   "outputs": [
    {
     "data": {
      "text/plain": [
       "tensor([[-0.0072, -0.0155, -0.0222, -0.0213,  0.0393,  0.0047, -0.0247, -0.0200,\n",
       "         -0.0279,  0.0130, -0.0259,  0.0198,  0.0073, -0.0014,  0.0009,  0.0129,\n",
       "         -0.0222]], grad_fn=<AddmmBackward0>)"
      ]
     },
     "execution_count": 10,
     "metadata": {},
     "output_type": "execute_result"
    }
   ],
   "source": [
    "# testing our model to see it built correctly.\n",
    "\n",
    "pred = model(img.unsqueeze(0))\n",
    "pred"
   ]
  },
  {
   "cell_type": "markdown",
   "id": "fd3b8094",
   "metadata": {},
   "source": [
    "### 2.2_ Optimizer, Loss function, Metrics\n",
    "\n",
    "now after buliding a model, we should create optimizer, loss function and metrics like accuracy score."
   ]
  },
  {
   "cell_type": "code",
   "execution_count": 30,
   "id": "c49dbb0a",
   "metadata": {},
   "outputs": [],
   "source": [
    "from torch import optim\n",
    "from torch.nn import CrossEntropyLoss\n",
    "\n",
    "optimizer = optim.SGD(model.parameters(), lr=0.001)\n",
    "loss_fn = CrossEntropyLoss()\n",
    "\n",
    "def acc_fn(y_pred, y_true):\n",
    "    correct = torch.eq(y_pred, y_true).sum().item()\n",
    "    acc = (correct / len(y_true)) * 100\n",
    "    return acc"
   ]
  },
  {
   "cell_type": "markdown",
   "id": "24ea2bfa",
   "metadata": {},
   "source": [
    "### 2.3_ creating the trianing loop"
   ]
  },
  {
   "cell_type": "code",
   "execution_count": 31,
   "id": "70b68239",
   "metadata": {},
   "outputs": [],
   "source": [
    "def training_loop(model: torch.nn.Module, \n",
    "                  train_data_loader: torch.utils.data.DataLoader, \n",
    "                  optimizer: torch.optim, \n",
    "                  loss_fn: torch.nn, \n",
    "                  acc_fn, \n",
    "                  device: torch.device=device):\n",
    "    \n",
    "    model.train()\n",
    "    \n",
    "    train_loss, train_acc = 0, 0\n",
    "    \n",
    "    for X, y in train_data_loader:\n",
    "        X, y =X.to(device), y.to(device)\n",
    "        pred = model(X)\n",
    "        loss = loss_fn(pred, y)\n",
    "        train_loss += loss.item()\n",
    "        train_acc += acc_fn(y_pred=pred.argmax(dim=1), y_true=y)\n",
    "        optimizer.zero_grad()\n",
    "        loss.backward()\n",
    "        optimizer.step()\n",
    "        \n",
    "    train_loss /= len(train_data_loader)\n",
    "    train_acc /= len(train_data_loader)\n",
    "    \n",
    "    return train_loss, train_acc"
   ]
  },
  {
   "cell_type": "markdown",
   "id": "b6473a51",
   "metadata": {},
   "source": [
    "### 2.4_ creating the testing loop"
   ]
  },
  {
   "cell_type": "code",
   "execution_count": 32,
   "id": "d5f50101",
   "metadata": {},
   "outputs": [],
   "source": [
    "def testing_loop(model: torch.nn.Module, \n",
    "                 test_data_loader: torch.utils.data.DataLoader, \n",
    "                 loss_fn: torch.nn,\n",
    "                 acc_fn, \n",
    "                 device: torch.device=device):\n",
    "    \n",
    "    model.eval()\n",
    "    \n",
    "    test_loss, test_acc = 0, 0\n",
    "    \n",
    "    with torch.inference_mode():\n",
    "        for X, y in test_data_loader:\n",
    "            X, y = X.to(device), y.to(device)\n",
    "            pred = model(X)\n",
    "            test_loss += loss_fn(pred, y).item()\n",
    "            test_acc += acc_fn(y_pred=pred.argmax(dim=1), y_true=y)\n",
    "        \n",
    "        test_loss /= len(test_data_loader)\n",
    "        test_acc /= len(test_data_loader)\n",
    "        \n",
    "    return test_loss, test_acc"
   ]
  },
  {
   "cell_type": "markdown",
   "id": "9af34be0",
   "metadata": {},
   "source": [
    "### 2.5_ creating train loop"
   ]
  },
  {
   "cell_type": "code",
   "execution_count": 33,
   "id": "103250bd",
   "metadata": {},
   "outputs": [],
   "source": [
    "from tqdm.auto import tqdm\n",
    "\n",
    "def train(model: torch.nn.Module, \n",
    "          train_data_loader: torch.utils.data.DataLoader, \n",
    "          test_data_loader: torch.utils.data.DataLoader, \n",
    "          optimizer: torch.optim, \n",
    "          loss_fn: torch.nn, \n",
    "          acc_fn, \n",
    "          epochs,\n",
    "          device: torch.device=device):\n",
    "    \n",
    "    result = {'train_loss': [], \n",
    "              'train_acc': [], \n",
    "              'test_loss': [], \n",
    "              'test_acc': []}\n",
    "    \n",
    "    for epoch in tqdm(range(epochs)):\n",
    "        print(f\"{epoch+1}/{epochs}:\")\n",
    "        \n",
    "        train_loss, train_acc = training_loop(model=model, \n",
    "                                              train_data_loader=train_data_loader, \n",
    "                                              optimizer=optimizer, \n",
    "                                              loss_fn=loss_fn, \n",
    "                                              acc_fn=acc_fn, \n",
    "                                              device=device)\n",
    "       \n",
    "        \n",
    "        test_loss, test_acc = testing_loop(model=model, \n",
    "                                           test_data_loader=test_data_loader, \n",
    "                                           loss_fn=loss_fn, \n",
    "                                           acc_fn=acc_fn,\n",
    "                                           device=device)\n",
    "        \n",
    "        \n",
    "        print(f\"training loss: {train_loss:0.5f}|training acc: {train_acc:0.3f}%|test loss: {test_loss:0.5f}|test acc: {test_acc:0.3f}%\")\n",
    "        \n",
    "        \n",
    "        result['train_loss'].append(train_loss)\n",
    "        result['train_acc'].append(train_acc)\n",
    "        result['test_loss'].append(test_loss)\n",
    "        result['test_acc'].append(test_acc)\n",
    "        \n",
    "    return result"
   ]
  },
  {
   "cell_type": "code",
   "execution_count": 34,
   "id": "441170ff",
   "metadata": {},
   "outputs": [
    {
     "data": {
      "application/vnd.jupyter.widget-view+json": {
       "model_id": "2f22376521824fec9db508bf1741d56e",
       "version_major": 2,
       "version_minor": 0
      },
      "text/plain": [
       "  0%|          | 0/5 [00:00<?, ?it/s]"
      ]
     },
     "metadata": {},
     "output_type": "display_data"
    },
    {
     "name": "stdout",
     "output_type": "stream",
     "text": [
      "1/5:\n",
      "training loss: 2.83458|training acc: 5.813%|test loss: 2.83584|test acc: 5.754%\n",
      "2/5:\n",
      "training loss: 2.83435|training acc: 5.813%|test loss: 2.83584|test acc: 5.754%\n",
      "3/5:\n",
      "training loss: 2.83447|training acc: 5.757%|test loss: 2.83583|test acc: 5.754%\n",
      "4/5:\n",
      "training loss: 2.83435|training acc: 5.925%|test loss: 2.83583|test acc: 5.754%\n",
      "5/5:\n",
      "training loss: 2.83431|training acc: 5.813%|test loss: 2.83583|test acc: 5.754%\n"
     ]
    }
   ],
   "source": [
    "# train the model\n",
    "\n",
    "EPOCHS=5\n",
    "\n",
    "result = train(model=model, \n",
    "               train_data_loader=train_loader, \n",
    "               test_data_loader=test_loader,\n",
    "               optimizer=optimizer,\n",
    "               loss_fn=loss_fn,\n",
    "               acc_fn=acc_fn, \n",
    "               epochs=EPOCHS, \n",
    "               device=device)"
   ]
  },
  {
   "cell_type": "markdown",
   "id": "3420abd4",
   "metadata": {},
   "source": [
    "### 2.6_ visualization"
   ]
  },
  {
   "cell_type": "code",
   "execution_count": 35,
   "id": "ecf568c1",
   "metadata": {},
   "outputs": [
    {
     "data": {
      "image/png": "[encoded data removed]",
      "text/plain": [
       "<Figure size 1000x800 with 1 Axes>"
      ]
     },
     "metadata": {},
     "output_type": "display_data"
    }
   ],
   "source": [
    "import matplotlib.pyplot as plt\n",
    "plt.figure(figsize=(10, 8))\n",
    "\n",
    "def learning_curves(result):\n",
    "    plt.plot(result['train_loss'], label='train loss', c='black')\n",
    "    plt.plot(result['test_loss'], label='test loss', c='red')\n",
    "    plt.plot(result['train_acc'], label='train acc', c='green')\n",
    "    plt.plot(result['test_acc'], label='test acc', c='blue')\n",
    "    \n",
    "    plt.title('Learning curve')\n",
    "    plt.legend()\n",
    "    \n",
    "learning_curves(result=result)"
   ]
  }
 ],
 "metadata": {
  "kernelspec": {
   "display_name": "Python 3 (ipykernel)",
   "language": "python",
   "name": "python3"
  },
  "language_info": {
   "codemirror_mode": {
    "name": "ipython",
    "version": 3
   },
   "file_extension": ".py",
   "mimetype": "text/x-python",
   "name": "python",
   "nbconvert_exporter": "python",
   "pygments_lexer": "ipython3",
   "version": "3.10.10"
  }
 },
 "nbformat": 4,
 "nbformat_minor": 5
}
