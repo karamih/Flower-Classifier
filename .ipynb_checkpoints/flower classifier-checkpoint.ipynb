{
 "cells": [
  {
   "cell_type": "markdown",
   "id": "75a5629e",
   "metadata": {},
   "source": [
    "# flower classifier with PyTorch\n",
    "\n",
    "for every project we should follow *four* steps:\n",
    "#### 1. preparing the data\n",
    "#### 2. create a model\n",
    "#### 3. evaluate the model\n",
    "#### 4. save the model"
   ]
  },
  {
   "cell_type": "markdown",
   "id": "48cfd30e",
   "metadata": {},
   "source": [
    "## 1. Preparing the data\n",
    "\n",
    "for this project we have a flower dataset which contains 17 types of flower that exist in *17_flowers* directory.\n",
    "the dataset contains *train* and *test* data.\n",
    "\n",
    "for reading data and prepare those, there are different ways, for example: using glob, using os, using pytorch, ...\n",
    "here we use pythorch for reading and preparing the data."
   ]
  },
  {
   "cell_type": "code",
   "execution_count": 1,
   "id": "e5e8147a",
   "metadata": {},
   "outputs": [
    {
     "data": {
      "text/plain": [
       "'cpu'"
      ]
     },
     "execution_count": 1,
     "metadata": {},
     "output_type": "execute_result"
    }
   ],
   "source": [
    "import torch\n",
    "\n",
    "# set device for modeling\n",
    "device = 'cuda' if torch.cuda.is_available() else 'cpu'\n",
    "device"
   ]
  },
  {
   "cell_type": "markdown",
   "id": "22d3f615",
   "metadata": {},
   "source": [
    "### 1.1_ using torchvision.transforms to build train and test transforms"
   ]
  },
  {
   "cell_type": "code",
   "execution_count": 2,
   "id": "e9f42ccf",
   "metadata": {},
   "outputs": [],
   "source": [
    "from torchvision import transforms\n",
    "\n",
    "train_dir = '17_flowers/train'\n",
    "test_dir = '17_flowers/test'"
   ]
  },
  {
   "cell_type": "code",
   "execution_count": 3,
   "id": "373ae0c6",
   "metadata": {},
   "outputs": [],
   "source": [
    "train_transform = transforms.Compose([transforms.Resize(size=(64, 64)), \n",
    "                                     transforms.RandomHorizontalFlip(0.5), \n",
    "                                     transforms.ToTensor()])\n",
    "\n",
    "test_transform = transforms.Compose([transforms.Resize(size=(64, 64)), \n",
    "                                    transforms.ToTensor()])"
   ]
  },
  {
   "cell_type": "markdown",
   "id": "d857caa4",
   "metadata": {},
   "source": [
    "### 1.2_ using torchvision.datasets.ImageFolder() to create torch dataset from our data and then split them to batches with torch.utils.data.DataLoader()."
   ]
  },
  {
   "cell_type": "code",
   "execution_count": 4,
   "id": "4f4cbd4b",
   "metadata": {},
   "outputs": [],
   "source": [
    "from torchvision.datasets import ImageFolder\n",
    "from torch.utils.data import DataLoader\n",
    "\n",
    "def create_dataset(train_dir, test_dir, train_transform, test_transform, batch_size, shuffle):\n",
    "    train_data = ImageFolder(root=train_dir, transform=train_transform)\n",
    "    test_data = ImageFolder(root=test_dir, transform=test_transform)\n",
    "    \n",
    "    train_loader = DataLoader(dataset=train_data, batch_size=batch_size, shuffle=shuffle)\n",
    "    test_loader = DataLoader(dataset=test_data, batch_size=batch_size, shuffle=False)\n",
    "    \n",
    "    \n",
    "    return train_loader, test_loader, train_data.classes"
   ]
  },
  {
   "cell_type": "code",
   "execution_count": 5,
   "id": "3f46eb24",
   "metadata": {},
   "outputs": [
    {
     "data": {
      "text/plain": [
       "['bluebell',\n",
       " 'buttercup',\n",
       " 'colts_foot',\n",
       " 'cowslip',\n",
       " 'crocus',\n",
       " 'daffodil',\n",
       " 'daisy',\n",
       " 'dandelion',\n",
       " 'fritillary',\n",
       " 'iris',\n",
       " 'lily_valley',\n",
       " 'pansy',\n",
       " 'snowdrop',\n",
       " 'sunflower',\n",
       " 'tigerlily',\n",
       " 'tulip',\n",
       " 'windflower']"
      ]
     },
     "execution_count": 5,
     "metadata": {},
     "output_type": "execute_result"
    }
   ],
   "source": [
    "BATCH_SIZE = 64\n",
    "\n",
    "train_loader, test_loader, classes = create_dataset(train_dir=train_dir, \n",
    "                                                   test_dir=test_dir, \n",
    "                                                   train_transform=train_transform, \n",
    "                                                   test_transform=test_transform, \n",
    "                                                   batch_size=BATCH_SIZE,\n",
    "                                                   shuffle=True)\n",
    "classes"
   ]
  },
  {
   "cell_type": "code",
   "execution_count": 6,
   "id": "ffd9b3c2",
   "metadata": {},
   "outputs": [
    {
     "data": {
      "text/plain": [
       "(tensor([[[0.0784, 0.1059, 0.0784,  ..., 0.8078, 0.8118, 0.9569],\n",
       "          [0.0824, 0.0588, 0.0784,  ..., 0.8353, 0.7176, 0.8627],\n",
       "          [0.2235, 0.0863, 0.0667,  ..., 0.6667, 0.7961, 0.7569],\n",
       "          ...,\n",
       "          [0.3490, 0.1843, 0.1569,  ..., 0.5922, 0.8471, 0.8706],\n",
       "          [0.4706, 0.2510, 0.2157,  ..., 0.6275, 0.8471, 0.8863],\n",
       "          [0.3647, 0.3804, 0.2627,  ..., 0.4824, 0.6392, 0.8118]],\n",
       " \n",
       "         [[0.0784, 0.0941, 0.0667,  ..., 0.7804, 0.7961, 0.9451],\n",
       "          [0.0824, 0.0510, 0.0667,  ..., 0.8157, 0.6863, 0.8471],\n",
       "          [0.2275, 0.0941, 0.0667,  ..., 0.6471, 0.7686, 0.7412],\n",
       "          ...,\n",
       "          [0.2980, 0.1490, 0.1294,  ..., 0.5255, 0.8235, 0.8471],\n",
       "          [0.3961, 0.2078, 0.1804,  ..., 0.5882, 0.8275, 0.8471],\n",
       "          [0.3137, 0.3294, 0.2235,  ..., 0.4353, 0.5922, 0.7725]],\n",
       " \n",
       "         [[0.0588, 0.0784, 0.0471,  ..., 0.7451, 0.7686, 0.9373],\n",
       "          [0.0784, 0.0392, 0.0588,  ..., 0.7176, 0.6510, 0.7961],\n",
       "          [0.2392, 0.0784, 0.0510,  ..., 0.5294, 0.7412, 0.6941],\n",
       "          ...,\n",
       "          [0.2353, 0.1333, 0.1020,  ..., 0.4510, 0.7333, 0.7569],\n",
       "          [0.3412, 0.1843, 0.1490,  ..., 0.5216, 0.7765, 0.7725],\n",
       "          [0.2824, 0.2706, 0.1882,  ..., 0.3647, 0.5255, 0.6941]]]),\n",
       " torch.Size([3, 64, 64]))"
      ]
     },
     "execution_count": 6,
     "metadata": {},
     "output_type": "execute_result"
    }
   ],
   "source": [
    "# see an image in dataloader\n",
    "img = next(iter(train_loader))[0][0]\n",
    "\n",
    "img, img.shape"
   ]
  },
  {
   "cell_type": "code",
   "execution_count": 7,
   "id": "8c83c667",
   "metadata": {},
   "outputs": [
    {
     "data": {
      "text/plain": [
       "<matplotlib.image.AxesImage at 0x26085b3f970>"
      ]
     },
     "execution_count": 7,
     "metadata": {},
     "output_type": "execute_result"
    },
    {
     "data": {
      "image/png": "[encoded data removed]",
      "text/plain": [
       "<Figure size 640x480 with 1 Axes>"
      ]
     },
     "metadata": {},
     "output_type": "display_data"
    }
   ],
   "source": [
    "import matplotlib.pyplot as plt\n",
    "\n",
    "plt.imshow(img.permute(1, 2, 0))"
   ]
  },
  {
   "cell_type": "markdown",
   "id": "86c847ba",
   "metadata": {},
   "source": [
    "Here we prepare our data to tensor data and everything is ok to go through the next step!"
   ]
  },
  {
   "cell_type": "markdown",
   "id": "75b09f0a",
   "metadata": {},
   "source": [
    "## 2. Create a Model\n",
    "\n",
    "for creating a model there is a few ways. we build a model with creating a class."
   ]
  },
  {
   "cell_type": "markdown",
   "id": "63414701",
   "metadata": {},
   "source": [
    "### 2.1_ nn.Module\n",
    "\n",
    "the class should inherit the *nn.Module* from torch for the base model."
   ]
  },
  {
   "cell_type": "code",
   "execution_count": 8,
   "id": "d58dada7",
   "metadata": {},
   "outputs": [],
   "source": [
    "import torch.nn as nn\n",
    "\n",
    "class Flower_classifier(nn.Module):\n",
    "    def __init__(self,\n",
    "                 input_shape: int, \n",
    "                 output_shape: int):\n",
    "        super().__init__()\n",
    "        \n",
    "        self.block_1 = nn.Sequential(nn.Conv2d(in_channels=input_shape, out_channels=32, kernel_size=(3, 3), padding=1), \n",
    "                                     nn.Conv2d(in_channels=32, out_channels=32, kernel_size=(3, 3), padding=1), \n",
    "                                     nn.ReLU(), \n",
    "                                     nn.MaxPool2d((2, 2)))\n",
    "        \n",
    "        self.block_2 = nn.Sequential(nn.Conv2d(in_channels=32, out_channels=64, kernel_size=(3, 3), padding=1), \n",
    "                                     nn.Conv2d(in_channels=64, out_channels=64, kernel_size=(3, 3), padding=1), \n",
    "                                     nn.ReLU(), \n",
    "                                     nn.MaxPool2d((2, 2)))\n",
    "            \n",
    "        self.block_3 = nn.Sequential(nn.Conv2d(in_channels=64, out_channels=128, kernel_size=(3, 3), padding=1), \n",
    "                                     nn.Conv2d(in_channels=128, out_channels=128, kernel_size=(3, 3), padding=1), \n",
    "                                     nn.ReLU(), \n",
    "                                     nn.MaxPool2d((2, 2)))\n",
    "        \n",
    "        self.classifier = nn.Sequential(nn.Flatten(), \n",
    "                                        nn.Linear(in_features=8*8*128, out_features=output_shape))\n",
    "        \n",
    "    def forward(self, x: torch.Tensor):\n",
    "        x = self.block_1(x)\n",
    "        x = self.block_2(x)\n",
    "        x = self.block_3(x)\n",
    "        x = self.classifier(x)\n",
    "        return x"
   ]
  },
  {
   "cell_type": "code",
   "execution_count": 9,
   "id": "9fc76f5e",
   "metadata": {},
   "outputs": [
    {
     "data": {
      "text/plain": [
       "Flower_classifier(\n",
       "  (block_1): Sequential(\n",
       "    (0): Conv2d(3, 32, kernel_size=(3, 3), stride=(1, 1), padding=(1, 1))\n",
       "    (1): Conv2d(32, 32, kernel_size=(3, 3), stride=(1, 1), padding=(1, 1))\n",
       "    (2): ReLU()\n",
       "    (3): MaxPool2d(kernel_size=(2, 2), stride=(2, 2), padding=0, dilation=1, ceil_mode=False)\n",
       "  )\n",
       "  (block_2): Sequential(\n",
       "    (0): Conv2d(32, 64, kernel_size=(3, 3), stride=(1, 1), padding=(1, 1))\n",
       "    (1): Conv2d(64, 64, kernel_size=(3, 3), stride=(1, 1), padding=(1, 1))\n",
       "    (2): ReLU()\n",
       "    (3): MaxPool2d(kernel_size=(2, 2), stride=(2, 2), padding=0, dilation=1, ceil_mode=False)\n",
       "  )\n",
       "  (block_3): Sequential(\n",
       "    (0): Conv2d(64, 128, kernel_size=(3, 3), stride=(1, 1), padding=(1, 1))\n",
       "    (1): Conv2d(128, 128, kernel_size=(3, 3), stride=(1, 1), padding=(1, 1))\n",
       "    (2): ReLU()\n",
       "    (3): MaxPool2d(kernel_size=(2, 2), stride=(2, 2), padding=0, dilation=1, ceil_mode=False)\n",
       "  )\n",
       "  (classifier): Sequential(\n",
       "    (0): Flatten(start_dim=1, end_dim=-1)\n",
       "    (1): Linear(in_features=8192, out_features=17, bias=True)\n",
       "  )\n",
       ")"
      ]
     },
     "execution_count": 9,
     "metadata": {},
     "output_type": "execute_result"
    }
   ],
   "source": [
    "# create an instance of our model.\n",
    "\n",
    "torch.manual_seed(42)\n",
    "\n",
    "model = Flower_classifier(input_shape=3, \n",
    "                          output_shape = len(classes)).to(device)\n",
    "\n",
    "model"
   ]
  },
  {
   "cell_type": "code",
   "execution_count": 10,
   "id": "793f4c44",
   "metadata": {},
   "outputs": [
    {
     "data": {
      "text/plain": [
       "tensor([[-0.0049, -0.0100, -0.0179, -0.0191,  0.0355,  0.0038, -0.0254, -0.0192,\n",
       "         -0.0269,  0.0141, -0.0208,  0.0185,  0.0090, -0.0006,  0.0020,  0.0086,\n",
       "         -0.0225]], grad_fn=<AddmmBackward0>)"
      ]
     },
     "execution_count": 10,
     "metadata": {},
     "output_type": "execute_result"
    }
   ],
   "source": [
    "# testing our model to see it built correctly.\n",
    "\n",
    "pred = model(img.unsqueeze(0))\n",
    "pred"
   ]
  },
  {
   "cell_type": "markdown",
   "id": "a6953ef2",
   "metadata": {},
   "source": [
    "### 2.2_ Optimizer, Loss function, Metrics\n",
    "\n",
    "now after buliding a model, we should create optimizer, loss function and metrics like accuracy score."
   ]
  },
  {
   "cell_type": "code",
   "execution_count": 11,
   "id": "a2cc233d",
   "metadata": {},
   "outputs": [],
   "source": [
    "from torch import optim\n",
    "from torch.nn import CrossEntropyLoss\n",
    "\n",
    "optimizer = optim.SGD(model.parameters(), lr=0.001)\n",
    "loss_fn = CrossEntropyLoss()\n",
    "\n",
    "def acc_fn(y_pred, y_true):\n",
    "    correct = torch.eq(y_pred, y_true).sum().item()\n",
    "    acc = (correct / len(y_true)) * 100\n",
    "    return acc"
   ]
  },
  {
   "cell_type": "markdown",
   "id": "b06026b6",
   "metadata": {},
   "source": [
    "### 2.3_ creating the trianing loop"
   ]
  },
  {
   "cell_type": "code",
   "execution_count": 12,
   "id": "edab12f4",
   "metadata": {},
   "outputs": [],
   "source": [
    "def training_loop(model: torch.nn.Module, \n",
    "                  train_data_loader: torch.utils.data.DataLoader, \n",
    "                  optimizer: torch.optim, \n",
    "                  loss_fn: torch.nn, \n",
    "                  acc_fn, \n",
    "                  device: torch.device=device):\n",
    "    \n",
    "    model.train()\n",
    "    \n",
    "    train_loss, train_acc = 0, 0\n",
    "    \n",
    "    for X, y in train_data_loader:\n",
    "        X, y =X.to(device), y.to(device)\n",
    "        pred = model(X)\n",
    "        loss = loss_fn(pred, y)\n",
    "        train_loss += loss.item()\n",
    "        train_acc += acc_fn(y_pred=pred.argmax(dim=1), y_true=y)\n",
    "        optimizer.zero_grad()\n",
    "        loss.backward()\n",
    "        optimizer.step()\n",
    "        \n",
    "    train_loss /= len(train_data_loader)\n",
    "    train_acc /= len(train_data_loader)\n",
    "    \n",
    "    return train_loss, train_acc"
   ]
  },
  {
   "cell_type": "markdown",
   "id": "f1cbdaae",
   "metadata": {},
   "source": [
    "### 2.4_ creating the testing loop"
   ]
  },
  {
   "cell_type": "code",
   "execution_count": 13,
   "id": "64422eef",
   "metadata": {},
   "outputs": [],
   "source": [
    "def testing_loop(model: torch.nn.Module, \n",
    "                 test_data_loader: torch.utils.data.DataLoader, \n",
    "                 loss_fn: torch.nn,\n",
    "                 acc_fn, \n",
    "                 device: torch.device=device):\n",
    "    \n",
    "    model.eval()\n",
    "    \n",
    "    test_loss, test_acc = 0, 0\n",
    "    \n",
    "    with torch.inference_mode():\n",
    "        for X, y in test_data_loader:\n",
    "            X, y = X.to(device), y.to(device)\n",
    "            pred = model(X)\n",
    "            test_loss += loss_fn(pred, y).item()\n",
    "            test_acc += acc_fn(y_pred=pred.argmax(dim=1), y_true=y)\n",
    "        \n",
    "        test_loss /= len(test_data_loader)\n",
    "        test_acc /= len(test_data_loader)\n",
    "        \n",
    "    return test_loss, test_acc"
   ]
  },
  {
   "cell_type": "markdown",
   "id": "aa7f63a7",
   "metadata": {},
   "source": [
    "### 2.5_ creating train loop"
   ]
  },
  {
   "cell_type": "code",
   "execution_count": 14,
   "id": "2b789beb",
   "metadata": {},
   "outputs": [],
   "source": [
    "from tqdm.auto import tqdm\n",
    "\n",
    "def train(model: torch.nn.Module, \n",
    "          train_data_loader: torch.utils.data.DataLoader, \n",
    "          test_data_loader: torch.utils.data.DataLoader, \n",
    "          optimizer: torch.optim, \n",
    "          loss_fn: torch.nn, \n",
    "          acc_fn, \n",
    "          epochs,\n",
    "          device: torch.device=device):\n",
    "    \n",
    "    result = {'train_loss': [], \n",
    "              'train_acc': [], \n",
    "              'test_loss': [], \n",
    "              'test_acc': []}\n",
    "    \n",
    "    for epoch in tqdm(range(epochs)):\n",
    "        print(f\"{epoch+1}/{epochs}:\")\n",
    "        \n",
    "        train_loss, train_acc = training_loop(model=model, \n",
    "                                              train_data_loader=train_data_loader, \n",
    "                                              optimizer=optimizer, \n",
    "                                              loss_fn=loss_fn, \n",
    "                                              acc_fn=acc_fn, \n",
    "                                              device=device)\n",
    "       \n",
    "        \n",
    "        test_loss, test_acc = testing_loop(model=model, \n",
    "                                           test_data_loader=test_data_loader, \n",
    "                                           loss_fn=loss_fn, \n",
    "                                           acc_fn=acc_fn,\n",
    "                                           device=device)\n",
    "        \n",
    "        \n",
    "        print(f\"training loss: {train_loss:0.5f}|training acc: {train_acc:0.3f}%|test loss: {test_loss:0.5f}|test acc: {test_acc:0.3f}%\")\n",
    "        \n",
    "        \n",
    "        result['train_loss'].append(train_loss)\n",
    "        result['train_acc'].append(train_acc)\n",
    "        result['test_loss'].append(test_loss)\n",
    "        result['test_acc'].append(test_acc)\n",
    "        \n",
    "    return result"
   ]
  },
  {
   "cell_type": "code",
   "execution_count": 15,
   "id": "539b451f",
   "metadata": {},
   "outputs": [
    {
     "data": {
      "application/vnd.jupyter.widget-view+json": {
       "model_id": "128162d20d53409b87ac2264364ebda6",
       "version_major": 2,
       "version_minor": 0
      },
      "text/plain": [
       "  0%|          | 0/5 [00:00<?, ?it/s]"
      ]
     },
     "metadata": {},
     "output_type": "display_data"
    },
    {
     "name": "stdout",
     "output_type": "stream",
     "text": [
      "1/5:\n",
      "training loss: 2.83338|training acc: 6.113%|test loss: 2.83539|test acc: 5.208%\n",
      "2/5:\n",
      "training loss: 2.83313|training acc: 6.113%|test loss: 2.83534|test acc: 5.208%\n",
      "3/5:\n",
      "training loss: 2.83314|training acc: 5.757%|test loss: 2.83520|test acc: 5.208%\n",
      "4/5:\n",
      "training loss: 2.83351|training acc: 5.757%|test loss: 2.83515|test acc: 5.208%\n",
      "5/5:\n",
      "training loss: 2.83336|training acc: 5.757%|test loss: 2.83509|test acc: 5.208%\n"
     ]
    }
   ],
   "source": [
    "# train the model\n",
    "\n",
    "EPOCHS=5\n",
    "\n",
    "result = train(model=model, \n",
    "               train_data_loader=train_loader, \n",
    "               test_data_loader=test_loader,\n",
    "               optimizer=optimizer,\n",
    "               loss_fn=loss_fn,\n",
    "               acc_fn=acc_fn, \n",
    "               epochs=EPOCHS, \n",
    "               device=device)"
   ]
  },
  {
   "cell_type": "markdown",
   "id": "3e98e917",
   "metadata": {},
   "source": [
    "### 2.6_ visualization"
   ]
  },
  {
   "cell_type": "code",
   "execution_count": 16,
   "id": "70d8a90c",
   "metadata": {},
   "outputs": [
    {
     "data": {
      "image/png": "[encoded data removed]",
      "text/plain": [
       "<Figure size 1000x800 with 1 Axes>"
      ]
     },
     "metadata": {},
     "output_type": "display_data"
    }
   ],
   "source": [
    "import matplotlib.pyplot as plt\n",
    "plt.figure(figsize=(10, 8))\n",
    "\n",
    "def learning_curves(result):\n",
    "    plt.plot(result['train_loss'], label='train loss', c='black')\n",
    "    plt.plot(result['test_loss'], label='test loss', c='red')\n",
    "    plt.plot(result['train_acc'], label='train acc', c='green')\n",
    "    plt.plot(result['test_acc'], label='test acc', c='blue')\n",
    "    \n",
    "    plt.title('Learning curve')\n",
    "    plt.legend()\n",
    "    \n",
    "learning_curves(result=result)"
   ]
  },
  {
   "cell_type": "markdown",
   "id": "dff26875",
   "metadata": {},
   "source": [
    "## 3. Evaluating\n",
    "\n",
    "Here we could see clearly that something is wrong!\n",
    "loss and accuracy are terrible, so we try to solve this.\n",
    "\n",
    "lets see how many parameters our first model have."
   ]
  },
  {
   "cell_type": "code",
   "execution_count": 18,
   "id": "cf6a0983",
   "metadata": {},
   "outputs": [
    {
     "name": "stderr",
     "output_type": "stream",
     "text": [
      "C:\\Users\\lotus\\anaconda3\\envs\\torch_cpu\\lib\\site-packages\\torchinfo\\torchinfo.py:477: UserWarning: TypedStorage is deprecated. It will be removed in the future and UntypedStorage will be the only storage class. This should only matter to you if you are using storages directly.  To access UntypedStorage directly, use tensor.untyped_storage() instead of tensor.storage()\n",
      "  action_fn=lambda data: sys.getsizeof(data.storage()),\n",
      "C:\\Users\\lotus\\anaconda3\\envs\\torch_cpu\\lib\\site-packages\\torch\\storage.py:665: UserWarning: TypedStorage is deprecated. It will be removed in the future and UntypedStorage will be the only storage class. This should only matter to you if you are using storages directly.  To access UntypedStorage directly, use tensor.untyped_storage() instead of tensor.storage()\n",
      "  return super().__sizeof__() + self.nbytes()\n"
     ]
    },
    {
     "data": {
      "text/plain": [
       "==========================================================================================\n",
       "Layer (type:depth-idx)                   Output Shape              Param #\n",
       "==========================================================================================\n",
       "Flower_classifier                        [64, 17]                  --\n",
       "├─Sequential: 1-1                        [64, 32, 32, 32]          --\n",
       "│    └─Conv2d: 2-1                       [64, 32, 64, 64]          896\n",
       "│    └─Conv2d: 2-2                       [64, 32, 64, 64]          9,248\n",
       "│    └─ReLU: 2-3                         [64, 32, 64, 64]          --\n",
       "│    └─MaxPool2d: 2-4                    [64, 32, 32, 32]          --\n",
       "├─Sequential: 1-2                        [64, 64, 16, 16]          --\n",
       "│    └─Conv2d: 2-5                       [64, 64, 32, 32]          18,496\n",
       "│    └─Conv2d: 2-6                       [64, 64, 32, 32]          36,928\n",
       "│    └─ReLU: 2-7                         [64, 64, 32, 32]          --\n",
       "│    └─MaxPool2d: 2-8                    [64, 64, 16, 16]          --\n",
       "├─Sequential: 1-3                        [64, 128, 8, 8]           --\n",
       "│    └─Conv2d: 2-9                       [64, 128, 16, 16]         73,856\n",
       "│    └─Conv2d: 2-10                      [64, 128, 16, 16]         147,584\n",
       "│    └─ReLU: 2-11                        [64, 128, 16, 16]         --\n",
       "│    └─MaxPool2d: 2-12                   [64, 128, 8, 8]           --\n",
       "├─Sequential: 1-4                        [64, 17]                  --\n",
       "│    └─Flatten: 2-13                     [64, 8192]                --\n",
       "│    └─Linear: 2-14                      [64, 17]                  139,281\n",
       "==========================================================================================\n",
       "Total params: 426,289\n",
       "Trainable params: 426,289\n",
       "Non-trainable params: 0\n",
       "Total mult-adds (G): 9.93\n",
       "==========================================================================================\n",
       "Input size (MB): 3.15\n",
       "Forward/backward pass size (MB): 234.89\n",
       "Params size (MB): 1.71\n",
       "Estimated Total Size (MB): 239.74\n",
       "=========================================================================================="
      ]
     },
     "execution_count": 18,
     "metadata": {},
     "output_type": "execute_result"
    }
   ],
   "source": [
    "from torchinfo import summary\n",
    "\n",
    "summary(model, input_size=(64, 3, 64, 64))"
   ]
  },
  {
   "cell_type": "markdown",
   "id": "6243c7ee",
   "metadata": {},
   "source": [
    "this model has almost 420k parameters!\n",
    "we simplify the model and train that."
   ]
  },
  {
   "cell_type": "code",
   "execution_count": 24,
   "id": "fa80b4bf",
   "metadata": {},
   "outputs": [
    {
     "data": {
      "text/plain": [
       "Simplified_Flower_classifier(\n",
       "  (block_1): Sequential(\n",
       "    (0): Conv2d(3, 32, kernel_size=(3, 3), stride=(1, 1), padding=(1, 1))\n",
       "    (1): ReLU()\n",
       "    (2): MaxPool2d(kernel_size=(2, 2), stride=(2, 2), padding=0, dilation=1, ceil_mode=False)\n",
       "    (3): Conv2d(32, 32, kernel_size=(3, 3), stride=(1, 1), padding=(1, 1))\n",
       "    (4): ReLU()\n",
       "    (5): MaxPool2d(kernel_size=(2, 2), stride=(2, 2), padding=0, dilation=1, ceil_mode=False)\n",
       "  )\n",
       "  (block_2): Sequential(\n",
       "    (0): Conv2d(32, 64, kernel_size=(3, 3), stride=(1, 1), padding=(1, 1))\n",
       "    (1): ReLU()\n",
       "    (2): MaxPool2d(kernel_size=(2, 2), stride=(2, 2), padding=0, dilation=1, ceil_mode=False)\n",
       "    (3): Conv2d(64, 64, kernel_size=(3, 3), stride=(1, 1), padding=(1, 1))\n",
       "    (4): ReLU()\n",
       "    (5): MaxPool2d(kernel_size=(2, 2), stride=(2, 2), padding=0, dilation=1, ceil_mode=False)\n",
       "  )\n",
       "  (classifier): Sequential(\n",
       "    (0): Flatten(start_dim=1, end_dim=-1)\n",
       "    (1): Linear(in_features=1024, out_features=17, bias=True)\n",
       "  )\n",
       ")"
      ]
     },
     "execution_count": 24,
     "metadata": {},
     "output_type": "execute_result"
    }
   ],
   "source": [
    "class Simplified_Flower_classifier(nn.Module):\n",
    "    def __init__(self,\n",
    "                 input_shape: int, \n",
    "                 output_shape: int):\n",
    "        super().__init__()\n",
    "        \n",
    "        self.block_1 = nn.Sequential(nn.Conv2d(in_channels=input_shape, out_channels=32, kernel_size=(3, 3), padding=1), \n",
    "                                     nn.ReLU(), \n",
    "                                     nn.MaxPool2d((2, 2)),\n",
    "                                     nn.Conv2d(in_channels=32, out_channels=32, kernel_size=(3, 3), padding=1), \n",
    "                                     nn.ReLU(), \n",
    "                                     nn.MaxPool2d((2, 2)))\n",
    "        \n",
    "        self.block_2 = nn.Sequential(nn.Conv2d(in_channels=32, out_channels=64, kernel_size=(3, 3), padding=1),\n",
    "                                     nn.ReLU(), \n",
    "                                     nn.MaxPool2d((2, 2)),\n",
    "                                     nn.Conv2d(in_channels=64, out_channels=64, kernel_size=(3, 3), padding=1), \n",
    "                                     nn.ReLU(), \n",
    "                                     nn.MaxPool2d((2, 2)))\n",
    "\n",
    "        self.classifier = nn.Sequential(nn.Flatten(), \n",
    "                                        nn.Linear(in_features=4*4*64, out_features=output_shape))\n",
    "        \n",
    "    def forward(self, x: torch.Tensor):\n",
    "        x = self.block_1(x)\n",
    "        x = self.block_2(x)\n",
    "        x = self.classifier(x)\n",
    "        return x\n",
    "                                     \n",
    " \n",
    "                                     \n",
    "torch.manual_seed(42)\n",
    "\n",
    "simplified_model = Simplified_Flower_classifier(input_shape=3, \n",
    "                          output_shape = len(classes)).to(device)\n",
    "                                     \n",
    "simplified_model"
   ]
  },
  {
   "cell_type": "code",
   "execution_count": 25,
   "id": "795545c1",
   "metadata": {},
   "outputs": [
    {
     "data": {
      "text/plain": [
       "==========================================================================================\n",
       "Layer (type:depth-idx)                   Output Shape              Param #\n",
       "==========================================================================================\n",
       "Simplified_Flower_classifier             [64, 17]                  --\n",
       "├─Sequential: 1-1                        [64, 32, 16, 16]          --\n",
       "│    └─Conv2d: 2-1                       [64, 32, 64, 64]          896\n",
       "│    └─ReLU: 2-2                         [64, 32, 64, 64]          --\n",
       "│    └─MaxPool2d: 2-3                    [64, 32, 32, 32]          --\n",
       "│    └─Conv2d: 2-4                       [64, 32, 32, 32]          9,248\n",
       "│    └─ReLU: 2-5                         [64, 32, 32, 32]          --\n",
       "│    └─MaxPool2d: 2-6                    [64, 32, 16, 16]          --\n",
       "├─Sequential: 1-2                        [64, 64, 4, 4]            --\n",
       "│    └─Conv2d: 2-7                       [64, 64, 16, 16]          18,496\n",
       "│    └─ReLU: 2-8                         [64, 64, 16, 16]          --\n",
       "│    └─MaxPool2d: 2-9                    [64, 64, 8, 8]            --\n",
       "│    └─Conv2d: 2-10                      [64, 64, 8, 8]            36,928\n",
       "│    └─ReLU: 2-11                        [64, 64, 8, 8]            --\n",
       "│    └─MaxPool2d: 2-12                   [64, 64, 4, 4]            --\n",
       "├─Sequential: 1-3                        [64, 17]                  --\n",
       "│    └─Flatten: 2-13                     [64, 1024]                --\n",
       "│    └─Linear: 2-14                      [64, 17]                  17,425\n",
       "==========================================================================================\n",
       "Total params: 82,993\n",
       "Trainable params: 82,993\n",
       "Non-trainable params: 0\n",
       "Total mult-adds (G): 1.30\n",
       "==========================================================================================\n",
       "Input size (MB): 3.15\n",
       "Forward/backward pass size (MB): 94.38\n",
       "Params size (MB): 0.33\n",
       "Estimated Total Size (MB): 97.86\n",
       "=========================================================================================="
      ]
     },
     "execution_count": 25,
     "metadata": {},
     "output_type": "execute_result"
    }
   ],
   "source": [
    "summary(simplified_model, input_size=(64, 3, 64, 64))"
   ]
  },
  {
   "cell_type": "code",
   "execution_count": 30,
   "id": "346aabf2",
   "metadata": {},
   "outputs": [],
   "source": [
    "optimizer_2 = optim.Adam(simplified_model.parameters(), lr=0.001)"
   ]
  },
  {
   "cell_type": "code",
   "execution_count": 31,
   "id": "70049510",
   "metadata": {},
   "outputs": [
    {
     "data": {
      "application/vnd.jupyter.widget-view+json": {
       "model_id": "891921c632f24c3b8aa2485447e14d03",
       "version_major": 2,
       "version_minor": 0
      },
      "text/plain": [
       "  0%|          | 0/5 [00:00<?, ?it/s]"
      ]
     },
     "metadata": {},
     "output_type": "display_data"
    },
    {
     "name": "stdout",
     "output_type": "stream",
     "text": [
      "1/5:\n",
      "training loss: 2.70990|training acc: 10.033%|test loss: 2.34965|test acc: 21.354%\n",
      "2/5:\n",
      "training loss: 2.25611|training acc: 21.875%|test loss: 2.01890|test acc: 24.479%\n",
      "3/5:\n",
      "training loss: 2.03427|training acc: 28.372%|test loss: 1.72522|test acc: 38.333%\n",
      "4/5:\n",
      "training loss: 1.78516|training acc: 36.650%|test loss: 1.57660|test acc: 43.021%\n",
      "5/5:\n",
      "training loss: 1.52966|training acc: 46.053%|test loss: 1.43092|test acc: 52.396%\n"
     ]
    }
   ],
   "source": [
    "EPOCHS=5\n",
    "\n",
    "result_2 = train(model=simplified_model, \n",
    "               train_data_loader=train_loader, \n",
    "               test_data_loader=test_loader,\n",
    "               optimizer=optimizer_2,\n",
    "               loss_fn=loss_fn,\n",
    "               acc_fn=acc_fn, \n",
    "               epochs=EPOCHS, \n",
    "               device=device)"
   ]
  },
  {
   "cell_type": "code",
   "execution_count": 32,
   "id": "8f44bcf6",
   "metadata": {},
   "outputs": [
    {
     "data": {
      "image/png": "[encoded data removed]",
      "text/plain": [
       "<Figure size 640x480 with 1 Axes>"
      ]
     },
     "metadata": {},
     "output_type": "display_data"
    }
   ],
   "source": [
    "learning_curves(result=result_2)"
   ]
  },
  {
   "cell_type": "markdown",
   "id": "d971fefd",
   "metadata": {},
   "source": [
    "with simplified the model and using Adam optimizer instead of SGD optimizer, in 5 epochs accuracy reach to 52%.\n",
    "maybe with incresing the number of epochs the accuracy get better.\n",
    "\n",
    "lets try with 10 epochs."
   ]
  },
  {
   "cell_type": "code",
   "execution_count": 33,
   "id": "2562f79a",
   "metadata": {},
   "outputs": [
    {
     "data": {
      "application/vnd.jupyter.widget-view+json": {
       "model_id": "41182189dd5b463880abfd758d228de7",
       "version_major": 2,
       "version_minor": 0
      },
      "text/plain": [
       "  0%|          | 0/10 [00:00<?, ?it/s]"
      ]
     },
     "metadata": {},
     "output_type": "display_data"
    },
    {
     "name": "stdout",
     "output_type": "stream",
     "text": [
      "1/10:\n",
      "training loss: 1.32751|training acc: 55.784%|test loss: 1.33711|test acc: 56.771%\n",
      "2/10:\n",
      "training loss: 1.20067|training acc: 57.621%|test loss: 1.25368|test acc: 57.292%\n",
      "3/10:\n",
      "training loss: 1.10599|training acc: 62.061%|test loss: 1.18833|test acc: 60.000%\n",
      "4/10:\n",
      "training loss: 1.03030|training acc: 64.419%|test loss: 1.09748|test acc: 66.146%\n",
      "5/10:\n",
      "training loss: 0.94639|training acc: 67.791%|test loss: 0.99955|test acc: 65.938%\n",
      "6/10:\n",
      "training loss: 0.83981|training acc: 72.834%|test loss: 1.02978|test acc: 61.979%\n",
      "7/10:\n",
      "training loss: 0.77024|training acc: 74.370%|test loss: 1.06278|test acc: 62.188%\n",
      "8/10:\n",
      "training loss: 0.71573|training acc: 75.137%|test loss: 1.22124|test acc: 65.417%\n",
      "9/10:\n",
      "training loss: 0.67435|training acc: 75.959%|test loss: 1.36114|test acc: 61.042%\n",
      "10/10:\n",
      "training loss: 0.62264|training acc: 79.276%|test loss: 0.99522|test acc: 69.583%\n"
     ]
    }
   ],
   "source": [
    "EPOCHS=10\n",
    "\n",
    "result_3 = train(model=simplified_model, \n",
    "               train_data_loader=train_loader, \n",
    "               test_data_loader=test_loader,\n",
    "               optimizer=optimizer_2,\n",
    "               loss_fn=loss_fn,\n",
    "               acc_fn=acc_fn, \n",
    "               epochs=EPOCHS, \n",
    "               device=device)"
   ]
  },
  {
   "cell_type": "code",
   "execution_count": 34,
   "id": "f0e8a9b4",
   "metadata": {},
   "outputs": [
    {
     "data": {
      "image/png": "[encoded data removed]",
      "text/plain": [
       "<Figure size 640x480 with 1 Axes>"
      ]
     },
     "metadata": {},
     "output_type": "display_data"
    }
   ],
   "source": [
    "learning_curves(result=result_3)"
   ]
  },
  {
   "cell_type": "markdown",
   "id": "e0110fab",
   "metadata": {},
   "source": [
    "that's it. accuracy reach to 70% on test set.\n",
    "but this is prove to overfit, so we should change something, but not now."
   ]
  }
 ],
 "metadata": {
  "kernelspec": {
   "display_name": "Python 3 (ipykernel)",
   "language": "python",
   "name": "python3"
  },
  "language_info": {
   "codemirror_mode": {
    "name": "ipython",
    "version": 3
   },
   "file_extension": ".py",
   "mimetype": "text/x-python",
   "name": "python",
   "nbconvert_exporter": "python",
   "pygments_lexer": "ipython3",
   "version": "3.10.10"
  }
 },
 "nbformat": 4,
 "nbformat_minor": 5
}
