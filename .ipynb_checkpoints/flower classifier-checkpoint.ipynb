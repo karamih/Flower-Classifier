{
 "cells": [
  {
   "cell_type": "markdown",
   "id": "75a5629e",
   "metadata": {},
   "source": [
    "# flower classifier with PyTorch\n",
    "\n",
    "for every project we should follow *three* steps:\n",
    "#### 1. preparing the data\n",
    "#### 2. create a model\n",
    "#### 3. evaluate the model"
   ]
  },
  {
   "cell_type": "markdown",
   "id": "48cfd30e",
   "metadata": {},
   "source": [
    "## 1. Preparing the data\n",
    "\n",
    "for this project we have a flower dataset which contains 17 types of flower that exist in *17_flowers* directory.\n",
    "the dataset contains *train* and *test* data.\n",
    "\n",
    "for reading data and prepare those, there are different ways, for example: using glob, using os, using pytorch, ...\n",
    "here we use pythorch for reading and preparing the data."
   ]
  },
  {
   "cell_type": "code",
   "execution_count": 1,
   "id": "e5e8147a",
   "metadata": {},
   "outputs": [
    {
     "data": {
      "text/plain": [
       "'cpu'"
      ]
     },
     "execution_count": 1,
     "metadata": {},
     "output_type": "execute_result"
    }
   ],
   "source": [
    "import torch\n",
    "\n",
    "# set device for modeling\n",
    "device = 'cuda' if torch.cuda.is_available() else 'cpu'\n",
    "device"
   ]
  },
  {
   "cell_type": "markdown",
   "id": "71ec5ad6",
   "metadata": {},
   "source": [
    "### 1.1_ using torchvision.transforms to build train and test transforms"
   ]
  },
  {
   "cell_type": "code",
   "execution_count": 8,
   "id": "e9f42ccf",
   "metadata": {},
   "outputs": [],
   "source": [
    "from torchvision import transforms\n",
    "\n",
    "train_dir = '17_flowers/train'\n",
    "test_dir = '17_flowers/test'"
   ]
  },
  {
   "cell_type": "code",
   "execution_count": 9,
   "id": "2a83fd29",
   "metadata": {},
   "outputs": [],
   "source": [
    "train_transform = transforms.Compose([transforms.Resize(size=(64, 64)), \n",
    "                                     transforms.RandomHorizontalFlip(0.5), \n",
    "                                     transforms.ToTensor()])\n",
    "\n",
    "test_transform = transforms.Compose([transforms.Resize(size=(64, 64)), \n",
    "                                    transforms.ToTensor()])"
   ]
  },
  {
   "cell_type": "markdown",
   "id": "9f56ed36",
   "metadata": {},
   "source": [
    "### 1.2_ using torchvision.datasets.ImageFolder() to create torch dataset from our data and then split them to batches with torch.utils.data.DataLoader()."
   ]
  },
  {
   "cell_type": "code",
   "execution_count": 19,
   "id": "c0d26355",
   "metadata": {},
   "outputs": [],
   "source": [
    "from torchvision.datasets import ImageFolder\n",
    "from torch.utils.data import DataLoader\n",
    "\n",
    "def create_dataset(train_dir, test_dir, train_transform, test_transform, batch_size, shuffle):\n",
    "    train_data = ImageFolder(root=train_dir, transform=train_transform)\n",
    "    test_data = ImageFolder(root=test_dir, transform=test_transform)\n",
    "    \n",
    "    train_loader = DataLoader(dataset=train_data, batch_size=batch_size, shuffle=shuffle)\n",
    "    test_loader = DataLoader(dataset=test_data, batch_size=batch_size, shuffle=False)\n",
    "    \n",
    "    \n",
    "    return train_loader, test_loader, train_data.classes"
   ]
  },
  {
   "cell_type": "code",
   "execution_count": 20,
   "id": "4643d277",
   "metadata": {},
   "outputs": [
    {
     "data": {
      "text/plain": [
       "['bluebell',\n",
       " 'buttercup',\n",
       " 'colts_foot',\n",
       " 'cowslip',\n",
       " 'crocus',\n",
       " 'daffodil',\n",
       " 'daisy',\n",
       " 'dandelion',\n",
       " 'fritillary',\n",
       " 'iris',\n",
       " 'lily_valley',\n",
       " 'pansy',\n",
       " 'snowdrop',\n",
       " 'sunflower',\n",
       " 'tigerlily',\n",
       " 'tulip',\n",
       " 'windflower']"
      ]
     },
     "execution_count": 20,
     "metadata": {},
     "output_type": "execute_result"
    }
   ],
   "source": [
    "BATCH_SIZE = 64\n",
    "\n",
    "train_loader, test_loader, classes = create_dataset(train_dir=train_dir, \n",
    "                                                   test_dir=test_dir, \n",
    "                                                   train_transform=train_transform, \n",
    "                                                   test_transform=test_transform, \n",
    "                                                   batch_size=BATCH_SIZE,\n",
    "                                                   shuffle=True)\n",
    "classes"
   ]
  },
  {
   "cell_type": "code",
   "execution_count": 38,
   "id": "f25101c7",
   "metadata": {},
   "outputs": [
    {
     "data": {
      "text/plain": [
       "(tensor([[[0.6549, 0.6431, 0.5725,  ..., 0.4745, 0.4824, 0.5451],\n",
       "          [0.6275, 0.6039, 0.6039,  ..., 0.4431, 0.5020, 0.5451],\n",
       "          [0.5255, 0.5490, 0.5882,  ..., 0.4196, 0.4941, 0.4941],\n",
       "          ...,\n",
       "          [0.4392, 0.4510, 0.4784,  ..., 0.5137, 0.5098, 0.6275],\n",
       "          [0.4510, 0.4667, 0.4824,  ..., 0.4824, 0.5137, 0.5725],\n",
       "          [0.5686, 0.5294, 0.4549,  ..., 0.5843, 0.6549, 0.6314]],\n",
       " \n",
       "         [[0.7529, 0.7686, 0.7333,  ..., 0.6471, 0.6627, 0.7255],\n",
       "          [0.7490, 0.7451, 0.7686,  ..., 0.6314, 0.6784, 0.7255],\n",
       "          [0.6745, 0.7137, 0.7765,  ..., 0.6039, 0.6745, 0.6902],\n",
       "          ...,\n",
       "          [0.6588, 0.6745, 0.6863,  ..., 0.6471, 0.6392, 0.7059],\n",
       "          [0.6039, 0.6510, 0.7020,  ..., 0.5804, 0.6118, 0.6471],\n",
       "          [0.7451, 0.7176, 0.6510,  ..., 0.6784, 0.7098, 0.6784]],\n",
       " \n",
       "         [[0.4588, 0.5059, 0.5020,  ..., 0.3608, 0.3765, 0.5373],\n",
       "          [0.4745, 0.4706, 0.4941,  ..., 0.3098, 0.4431, 0.5373],\n",
       "          [0.3922, 0.4000, 0.4353,  ..., 0.2706, 0.4431, 0.4471],\n",
       "          ...,\n",
       "          [0.1922, 0.1843, 0.2314,  ..., 0.3255, 0.3451, 0.4784],\n",
       "          [0.2980, 0.2627, 0.2353,  ..., 0.2667, 0.3020, 0.3490],\n",
       "          [0.4549, 0.3686, 0.2275,  ..., 0.4039, 0.4549, 0.3725]]]),\n",
       " torch.Size([3, 64, 64]))"
      ]
     },
     "execution_count": 38,
     "metadata": {},
     "output_type": "execute_result"
    }
   ],
   "source": [
    "# see an image in dataloader\n",
    "img = next(iter(train_loader))[0][0]\n",
    "\n",
    "img, img.shape"
   ]
  },
  {
   "cell_type": "code",
   "execution_count": 41,
   "id": "0d1fcd48",
   "metadata": {},
   "outputs": [
    {
     "data": {
      "text/plain": [
       "<matplotlib.image.AxesImage at 0x2cb8995ace0>"
      ]
     },
     "execution_count": 41,
     "metadata": {},
     "output_type": "execute_result"
    },
    {
     "data": {
      "image/png": "[encoded data removed]",
      "text/plain": [
       "<Figure size 640x480 with 1 Axes>"
      ]
     },
     "metadata": {},
     "output_type": "display_data"
    }
   ],
   "source": [
    "import matplotlib.pyplot as plt\n",
    "\n",
    "plt.imshow(img.permute(1, 2, 0))"
   ]
  }
 ],
 "metadata": {
  "kernelspec": {
   "display_name": "Python 3 (ipykernel)",
   "language": "python",
   "name": "python3"
  },
  "language_info": {
   "codemirror_mode": {
    "name": "ipython",
    "version": 3
   },
   "file_extension": ".py",
   "mimetype": "text/x-python",
   "name": "python",
   "nbconvert_exporter": "python",
   "pygments_lexer": "ipython3",
   "version": "3.10.10"
  }
 },
 "nbformat": 4,
 "nbformat_minor": 5
}
