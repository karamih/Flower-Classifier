{
 "cells": [
  {
   "cell_type": "markdown",
   "id": "75a5629e",
   "metadata": {},
   "source": [
    "# flower classifier with PyTorch\n",
    "\n",
    "for every project we should follow *three* steps:\n",
    "#### 1. preparing the data\n",
    "#### 2. create a model\n",
    "#### 3. evaluate the model"
   ]
  },
  {
   "cell_type": "markdown",
   "id": "48cfd30e",
   "metadata": {},
   "source": [
    "## 1. Preparing the data\n",
    "\n",
    "for this project we have a flower dataset which contains 17 types of flower that exist in *17_flowers* directory.\n",
    "the dataset contains *train* and *test* data.\n",
    "\n",
    "for reading data and prepare those, there are different ways, for example: using glob, using os, using pytorch, ...\n",
    "here we use pythorch for reading and preparing the data."
   ]
  },
  {
   "cell_type": "code",
   "execution_count": 1,
   "id": "e5e8147a",
   "metadata": {},
   "outputs": [
    {
     "data": {
      "text/plain": [
       "'cpu'"
      ]
     },
     "execution_count": 1,
     "metadata": {},
     "output_type": "execute_result"
    }
   ],
   "source": [
    "import torch\n",
    "\n",
    "# set device for modeling\n",
    "device = 'cuda' if torch.cuda.is_available() else 'cpu'\n",
    "device"
   ]
  },
  {
   "cell_type": "markdown",
   "id": "97b20188",
   "metadata": {},
   "source": [
    "### 1.1_ using torchvision.transforms to build train and test transforms"
   ]
  },
  {
   "cell_type": "code",
   "execution_count": 2,
   "id": "e9f42ccf",
   "metadata": {},
   "outputs": [],
   "source": [
    "from torchvision import transforms\n",
    "\n",
    "train_dir = '17_flowers/train'\n",
    "test_dir = '17_flowers/test'"
   ]
  },
  {
   "cell_type": "code",
   "execution_count": 3,
   "id": "9b5cb29f",
   "metadata": {},
   "outputs": [],
   "source": [
    "train_transform = transforms.Compose([transforms.Resize(size=(64, 64)), \n",
    "                                     transforms.RandomHorizontalFlip(0.5), \n",
    "                                     transforms.ToTensor()])\n",
    "\n",
    "test_transform = transforms.Compose([transforms.Resize(size=(64, 64)), \n",
    "                                    transforms.ToTensor()])"
   ]
  },
  {
   "cell_type": "markdown",
   "id": "99ab9172",
   "metadata": {},
   "source": [
    "### 1.2_ using torchvision.datasets.ImageFolder() to create torch dataset from our data and then split them to batches with torch.utils.data.DataLoader()."
   ]
  },
  {
   "cell_type": "code",
   "execution_count": 4,
   "id": "1bd3adb1",
   "metadata": {},
   "outputs": [],
   "source": [
    "from torchvision.datasets import ImageFolder\n",
    "from torch.utils.data import DataLoader\n",
    "\n",
    "def create_dataset(train_dir, test_dir, train_transform, test_transform, batch_size, shuffle):\n",
    "    train_data = ImageFolder(root=train_dir, transform=train_transform)\n",
    "    test_data = ImageFolder(root=test_dir, transform=test_transform)\n",
    "    \n",
    "    train_loader = DataLoader(dataset=train_data, batch_size=batch_size, shuffle=shuffle)\n",
    "    test_loader = DataLoader(dataset=test_data, batch_size=batch_size, shuffle=False)\n",
    "    \n",
    "    \n",
    "    return train_loader, test_loader, train_data.classes"
   ]
  },
  {
   "cell_type": "code",
   "execution_count": 5,
   "id": "2737a2f8",
   "metadata": {},
   "outputs": [
    {
     "data": {
      "text/plain": [
       "['bluebell',\n",
       " 'buttercup',\n",
       " 'colts_foot',\n",
       " 'cowslip',\n",
       " 'crocus',\n",
       " 'daffodil',\n",
       " 'daisy',\n",
       " 'dandelion',\n",
       " 'fritillary',\n",
       " 'iris',\n",
       " 'lily_valley',\n",
       " 'pansy',\n",
       " 'snowdrop',\n",
       " 'sunflower',\n",
       " 'tigerlily',\n",
       " 'tulip',\n",
       " 'windflower']"
      ]
     },
     "execution_count": 5,
     "metadata": {},
     "output_type": "execute_result"
    }
   ],
   "source": [
    "BATCH_SIZE = 64\n",
    "\n",
    "train_loader, test_loader, classes = create_dataset(train_dir=train_dir, \n",
    "                                                   test_dir=test_dir, \n",
    "                                                   train_transform=train_transform, \n",
    "                                                   test_transform=test_transform, \n",
    "                                                   batch_size=BATCH_SIZE,\n",
    "                                                   shuffle=True)\n",
    "classes"
   ]
  },
  {
   "cell_type": "code",
   "execution_count": 6,
   "id": "8f4b4a81",
   "metadata": {},
   "outputs": [
    {
     "data": {
      "text/plain": [
       "(tensor([[[0.6627, 0.5216, 0.4196,  ..., 0.2824, 0.2706, 0.3765],\n",
       "          [0.5294, 0.4588, 0.4784,  ..., 0.3373, 0.2824, 0.3961],\n",
       "          [0.4353, 0.4667, 0.5098,  ..., 0.4902, 0.2824, 0.3294],\n",
       "          ...,\n",
       "          [0.3490, 0.5451, 0.3882,  ..., 0.1922, 0.1686, 0.1255],\n",
       "          [0.3529, 0.5843, 0.4392,  ..., 0.4392, 0.4196, 0.2471],\n",
       "          [0.4549, 0.8078, 0.7647,  ..., 0.3608, 0.3451, 0.2039]],\n",
       " \n",
       "         [[0.6314, 0.4863, 0.3686,  ..., 0.2902, 0.2980, 0.3569],\n",
       "          [0.4471, 0.3843, 0.4078,  ..., 0.3333, 0.3059, 0.3725],\n",
       "          [0.3176, 0.3725, 0.4314,  ..., 0.4941, 0.3059, 0.3020],\n",
       "          ...,\n",
       "          [0.2980, 0.5294, 0.3647,  ..., 0.1686, 0.1490, 0.1176],\n",
       "          [0.3412, 0.5765, 0.4118,  ..., 0.4235, 0.4157, 0.2431],\n",
       "          [0.4627, 0.8078, 0.7373,  ..., 0.3216, 0.3255, 0.2000]],\n",
       " \n",
       "         [[0.4824, 0.3020, 0.2000,  ..., 0.1804, 0.1686, 0.2314],\n",
       "          [0.3255, 0.2275, 0.2353,  ..., 0.2118, 0.1765, 0.2510],\n",
       "          [0.2196, 0.2431, 0.2745,  ..., 0.3569, 0.1765, 0.1882],\n",
       "          ...,\n",
       "          [0.2314, 0.4275, 0.2902,  ..., 0.1725, 0.1608, 0.1255],\n",
       "          [0.2471, 0.4824, 0.3216,  ..., 0.2118, 0.2000, 0.1490],\n",
       "          [0.3686, 0.7255, 0.6353,  ..., 0.1882, 0.1765, 0.1373]]]),\n",
       " torch.Size([3, 64, 64]))"
      ]
     },
     "execution_count": 6,
     "metadata": {},
     "output_type": "execute_result"
    }
   ],
   "source": [
    "# see an image in dataloader\n",
    "img = next(iter(train_loader))[0][0]\n",
    "\n",
    "img, img.shape"
   ]
  },
  {
   "cell_type": "code",
   "execution_count": 7,
   "id": "8c5d884c",
   "metadata": {},
   "outputs": [
    {
     "data": {
      "text/plain": [
       "<matplotlib.image.AxesImage at 0x1d5fe3578b0>"
      ]
     },
     "execution_count": 7,
     "metadata": {},
     "output_type": "execute_result"
    },
    {
     "data": {
      "image/png": "[encoded data removed]",
      "text/plain": [
       "<Figure size 640x480 with 1 Axes>"
      ]
     },
     "metadata": {},
     "output_type": "display_data"
    }
   ],
   "source": [
    "import matplotlib.pyplot as plt\n",
    "\n",
    "plt.imshow(img.permute(1, 2, 0))"
   ]
  },
  {
   "cell_type": "markdown",
   "id": "d6156ead",
   "metadata": {},
   "source": [
    "Here we prepare our data to tensor data and everything is ok to go through the next step!"
   ]
  },
  {
   "cell_type": "markdown",
   "id": "ce258260",
   "metadata": {},
   "source": [
    "## 2. Create a Model\n",
    "\n",
    "for creating a model there is a few ways. we build a model with creating a class."
   ]
  },
  {
   "cell_type": "markdown",
   "id": "bb766f5c",
   "metadata": {},
   "source": [
    "### 2.1_ nn.Module\n",
    "\n",
    "the class should inherit the *nn.Module* from torch for the base model."
   ]
  },
  {
   "cell_type": "code",
   "execution_count": 8,
   "id": "ac8e7e24",
   "metadata": {},
   "outputs": [],
   "source": [
    "import torch.nn as nn\n",
    "\n",
    "class Flower_classifier(nn.Module):\n",
    "    def __init__(self,\n",
    "                 input_shape: int, \n",
    "                 output_shape: int):\n",
    "        super().__init__()\n",
    "        \n",
    "        self.block_1 = nn.Sequential(nn.Conv2d(in_channels=input_shape, out_channels=32, kernel_size=(3, 3), padding=1), \n",
    "                                     nn.Conv2d(in_channels=32, out_channels=32, kernel_size=(3, 3), padding=1), \n",
    "                                     nn.ReLU(), \n",
    "                                     nn.MaxPool2d((2, 2)))\n",
    "        \n",
    "        self.block_2 = nn.Sequential(nn.Conv2d(in_channels=32, out_channels=64, kernel_size=(3, 3), padding=1), \n",
    "                                     nn.Conv2d(in_channels=64, out_channels=64, kernel_size=(3, 3), padding=1), \n",
    "                                     nn.ReLU(), \n",
    "                                     nn.MaxPool2d((2, 2)))\n",
    "            \n",
    "        self.block_3 = nn.Sequential(nn.Conv2d(in_channels=64, out_channels=128, kernel_size=(3, 3), padding=1), \n",
    "                                     nn.Conv2d(in_channels=128, out_channels=128, kernel_size=(3, 3), padding=1), \n",
    "                                     nn.ReLU(), \n",
    "                                     nn.MaxPool2d((2, 2)))\n",
    "        \n",
    "        self.classifier = nn.Sequential(nn.Flatten(), \n",
    "                                        nn.Linear(in_features=8*8*128, out_features=output_shape))\n",
    "        \n",
    "    def forward(self, x: torch.Tensor):\n",
    "        x = self.block_1(x)\n",
    "        x = self.block_2(x)\n",
    "        x = self.block_3(x)\n",
    "        x = self.classifier(x)\n",
    "        return x"
   ]
  },
  {
   "cell_type": "code",
   "execution_count": 9,
   "id": "c1e30f89",
   "metadata": {},
   "outputs": [
    {
     "data": {
      "text/plain": [
       "Flower_classifier(\n",
       "  (block_1): Sequential(\n",
       "    (0): Conv2d(3, 32, kernel_size=(3, 3), stride=(1, 1), padding=(1, 1))\n",
       "    (1): Conv2d(32, 32, kernel_size=(3, 3), stride=(1, 1), padding=(1, 1))\n",
       "    (2): ReLU()\n",
       "    (3): MaxPool2d(kernel_size=(2, 2), stride=(2, 2), padding=0, dilation=1, ceil_mode=False)\n",
       "  )\n",
       "  (block_2): Sequential(\n",
       "    (0): Conv2d(32, 64, kernel_size=(3, 3), stride=(1, 1), padding=(1, 1))\n",
       "    (1): Conv2d(64, 64, kernel_size=(3, 3), stride=(1, 1), padding=(1, 1))\n",
       "    (2): ReLU()\n",
       "    (3): MaxPool2d(kernel_size=(2, 2), stride=(2, 2), padding=0, dilation=1, ceil_mode=False)\n",
       "  )\n",
       "  (block_3): Sequential(\n",
       "    (0): Conv2d(64, 128, kernel_size=(3, 3), stride=(1, 1), padding=(1, 1))\n",
       "    (1): Conv2d(128, 128, kernel_size=(3, 3), stride=(1, 1), padding=(1, 1))\n",
       "    (2): ReLU()\n",
       "    (3): MaxPool2d(kernel_size=(2, 2), stride=(2, 2), padding=0, dilation=1, ceil_mode=False)\n",
       "  )\n",
       "  (classifier): Sequential(\n",
       "    (0): Flatten(start_dim=1, end_dim=-1)\n",
       "    (1): Linear(in_features=8192, out_features=17, bias=True)\n",
       "  )\n",
       ")"
      ]
     },
     "execution_count": 9,
     "metadata": {},
     "output_type": "execute_result"
    }
   ],
   "source": [
    "# create an instance of our model.\n",
    "\n",
    "torch.manual_seed(42)\n",
    "\n",
    "model = Flower_classifier(input_shape=3, \n",
    "                          output_shape = len(classes)).to(device)\n",
    "\n",
    "model"
   ]
  },
  {
   "cell_type": "code",
   "execution_count": 10,
   "id": "b79b50c6",
   "metadata": {},
   "outputs": [
    {
     "data": {
      "text/plain": [
       "tensor([[-0.0070, -0.0087, -0.0194, -0.0182,  0.0332,  0.0027, -0.0261, -0.0201,\n",
       "         -0.0270,  0.0121, -0.0193,  0.0156,  0.0066,  0.0050,  0.0014,  0.0124,\n",
       "         -0.0234]], grad_fn=<AddmmBackward0>)"
      ]
     },
     "execution_count": 10,
     "metadata": {},
     "output_type": "execute_result"
    }
   ],
   "source": [
    "# testing our model to see it built correctly.\n",
    "\n",
    "pred = model(img.unsqueeze(0))\n",
    "pred"
   ]
  },
  {
   "cell_type": "markdown",
   "id": "4836f959",
   "metadata": {},
   "source": [
    "### 2.2_ Optimizer, Loss function, Metrics\n",
    "\n",
    "now after buliding a model, we should create optimizer, loss function and metrics like accuracy score."
   ]
  },
  {
   "cell_type": "code",
   "execution_count": 11,
   "id": "c309ae14",
   "metadata": {},
   "outputs": [],
   "source": [
    "from torch import optim\n",
    "from torch.nn import CrossEntropyLoss\n",
    "\n",
    "optimizer = optim.SGD(model.parameters(), lr=0.001)\n",
    "loss_fn = CrossEntropyLoss()\n",
    "\n",
    "def acc_fn(y_pred, y_true):\n",
    "    correct = torch.eq(y_pred, y_true).sum().item()\n",
    "    acc = (correct / len(y_pred)) * 100\n",
    "    return acc"
   ]
  }
 ],
 "metadata": {
  "kernelspec": {
   "display_name": "Python 3 (ipykernel)",
   "language": "python",
   "name": "python3"
  },
  "language_info": {
   "codemirror_mode": {
    "name": "ipython",
    "version": 3
   },
   "file_extension": ".py",
   "mimetype": "text/x-python",
   "name": "python",
   "nbconvert_exporter": "python",
   "pygments_lexer": "ipython3",
   "version": "3.10.10"
  }
 },
 "nbformat": 4,
 "nbformat_minor": 5
}
